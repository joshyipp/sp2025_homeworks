{
 "cells": [
  {
   "cell_type": "code",
   "execution_count": null,
   "metadata": {
    "deletable": false,
    "editable": false
   },
   "outputs": [],
   "source": [
    "# Initialize Otter\n",
    "import otter\n",
    "grader = otter.Notebook(\"hw1_background_mathematics.ipynb\")"
   ]
  },
  {
   "cell_type": "markdown",
   "metadata": {
    "id": "s5zzKSOusPOB"
   },
   "source": [
    "# Homework 1 -- Background Mathematics\n",
    "\n",
    "## Introduction\n",
    "\n",
    "The purpose of this Python notebook is multifold:\n",
    "* to familiarize yourself with the process of completing Jupyter notebook assignments and\n",
    "* refresher on some of the background mathematical concepts that you are going to need to understand deep learning.\n",
    " \n",
    "It's not meant to be difficult and it may be that you know some or all of this information already.\n",
    "\n",
    "Math is *NOT* a spectator sport.  You won't learn it by just listening to lectures or reading books.  It really helps to interact with it and explore yourself.\n",
    "\n",
    "Work through the cells below, running each cell in turn.  \n",
    "\n",
    "In various places you will see prompts and incomplete cells. Follow the instructions at these places and write code to complete the functions.  \n",
    "\n",
    "There are also questions interspersed in the text.\n",
    "\n",
    "(Based on [Notebook 1.1](https://github.com/udlbook/udlbook/blob/main/Notebooks/Chap01/1_1_BackgroundMathematics.ipynb) of\n",
    "_Understanding Deep Learning_)"
   ]
  },
  {
   "cell_type": "markdown",
   "metadata": {},
   "source": [
    "## Working with Jupyter Notebook Assignments\n",
    "\n",
    "You can either complete the notebook on Colab or in your local environment."
   ]
  },
  {
   "cell_type": "markdown",
   "metadata": {
    "colab_type": "text",
    "id": "view-in-github"
   },
   "source": [
    "### Completing the notebook on Colab\n",
    "\n",
    "To complete the notebook on Colab, you can click on the \"Open in Colab\" button\n",
    "below and it will open the notebook from our public class notebook repository\n",
    "on GitHub.\n",
    "\n",
    "> Note that you will have save the notebook to your own Google Drive by clicking\n",
    "on File -> Save a Copy in Drive.\n",
    "\n",
    "> Also note that the Otter Grader cells will not run in Colab, but you can just\n",
    "> avoid executing those cells. For any public tests, you can submit to Gradescope\n",
    "> and inspect your results there.\n",
    "\n",
    "<a href=\"https://colab.research.google.com/github/DL4DS/sp2025_homeworks/blob/main/hw1/hw1_background_mathematics.ipynb\" target=\"_parent\"><img src=\"https://colab.research.google.com/assets/colab-badge.svg\" alt=\"Open In Colab\"/></a>\n"
   ]
  },
  {
   "cell_type": "code",
   "execution_count": null,
   "metadata": {
    "id": "aUAjBbqzivMY"
   },
   "outputs": [],
   "source": [
    "# Imports math library\n",
    "import numpy as np\n",
    "# Imports plotting library\n",
    "import matplotlib.pyplot as plt"
   ]
  },
  {
   "cell_type": "markdown",
   "metadata": {},
   "source": [
    "### Completing the notebook in a local environment\n",
    "\n",
    "For local environments, after setting up your Python and Jupyter environments,\n",
    "you have the option of using either\n",
    "* Jupyter Lab or Notebook interface, or with\n",
    "* VSCode and the Jupyter extension pack\n",
    "\n",
    "In both cases we strongly encourage you to make sure you have a recent version\n",
    "of Python (>=3.10) and use a virtual environment such as `venv` or miniconda\n",
    "environment."
   ]
  },
  {
   "cell_type": "markdown",
   "metadata": {},
   "source": [
    "## Part 1 -- Linear Functions in 1D, 2D and 3D"
   ]
  },
  {
   "cell_type": "markdown",
   "metadata": {
    "id": "WV2Dl6owme2d"
   },
   "source": [
    "### Linear functions\n",
    "\n",
    "We will be using the term *linear equation* to mean a weighted sum of inputs plus an offset.\n",
    "\n",
    "> Strictly speaking mathematically that is actually _affine_, but we'll adhere to the \n",
    "> more relaxed terminology used in the deep learning literature.\n",
    "\n",
    "If there is just one input $x$, then this is a straight line:\n",
    "\n",
    "\\begin{equation}y=\\beta+\\omega x,\\end{equation}\n",
    "\n",
    "where $\\beta$ is the y-intercept of the linear and $\\omega$ is the slope of the line. \n",
    "\n",
    "When there are two inputs $x_{1}$ and $x_{2}$, then this becomes a plane:\n",
    "\n",
    "\\begin{equation}y=\\beta+\\omega_1 x_1 + \\omega_2 x_2.\\end{equation}\n",
    "\n",
    "You can extend this to an arbitrary number of inputs. Any other form of functions\n",
    "are by definition **non-linear**."
   ]
  },
  {
   "cell_type": "markdown",
   "metadata": {
    "deletable": false,
    "editable": false
   },
   "source": [
    "**Question 1.** Define a linear function with just one input, $x$."
   ]
  },
  {
   "cell_type": "code",
   "execution_count": null,
   "metadata": {
    "id": "WeFK4AvTotd8",
    "tags": []
   },
   "outputs": [],
   "source": [
    "def linear_function_1D(x,beta,omega):\n",
    "  \"\"\"Linear function with one input, x\"\"\"\n",
    "  # complete the code line below with the formula for the 1D linear equation\n",
    "  y = ...\n",
    "\n",
    "  return y"
   ]
  },
  {
   "cell_type": "code",
   "execution_count": null,
   "metadata": {
    "deletable": false,
    "editable": false
   },
   "outputs": [],
   "source": [
    "grader.check(\"q1\")"
   ]
  },
  {
   "cell_type": "markdown",
   "metadata": {
    "deletable": false,
    "editable": false
   },
   "source": [
    "<!-- BEGIN QUESTION -->\n",
    "\n",
    "**Question 2.** Change the values of beta and omega to make a line\n",
    "that crosses the y-axis at y=10 and the x-axis at x=5"
   ]
  },
  {
   "cell_type": "code",
   "execution_count": null,
   "metadata": {
    "id": "eimhJ8_jpmEp",
    "tags": []
   },
   "outputs": [],
   "source": [
    "# Plot the 1D linear function\n",
    "\n",
    "# Define an array of x values from 0 to 10 with increments of 0.01\n",
    "x = np.arange(0.0,10.0, 0.01)\n",
    "\n",
    "beta = ...\n",
    "omega = ...\n",
    "\n",
    "# Compute y using the function you filled in above\n",
    "y = linear_function_1D(x,beta,omega)\n",
    "\n",
    "# Plot this function\n",
    "fig, ax = plt.subplots()\n",
    "ax.plot(x,y,'r-')\n",
    "ax.set_ylim([0,10]);ax.set_xlim([0,10])\n",
    "ax.set_xlabel('x'); ax.set_ylabel('y')\n",
    "plt.show()"
   ]
  },
  {
   "cell_type": "markdown",
   "metadata": {
    "deletable": false,
    "editable": false
   },
   "source": [
    "<!-- END QUESTION -->\n",
    "\n",
    "For convenience, we define `draw_2D_function()` to draw a contour plot of 2D\n",
    "functions.  This is like a 2D topographic map with contour lines tracing paths\n",
    "of equal value. Here, the brighter and whiter the color, the higher the value."
   ]
  },
  {
   "cell_type": "code",
   "execution_count": null,
   "metadata": {
    "id": "57Gvkk-Ir_7b"
   },
   "outputs": [],
   "source": [
    "# Code to draw 2D function -- read it so you know what is going on, but you don't have to change it\n",
    "def draw_2D_function(x1_mesh, x2_mesh, y):\n",
    "    fig, ax = plt.subplots()\n",
    "    fig.set_size_inches(7,7)\n",
    "    pos = ax.contourf(x1_mesh, x2_mesh, y, levels=256 ,cmap = 'hot', vmin=-10,vmax=10.0)\n",
    "    fig.colorbar(pos, ax=ax)\n",
    "    ax.set_xlabel('x1');ax.set_ylabel('x2')\n",
    "    levels = np.arange(-10,10,1.0)\n",
    "    ax.contour(x1_mesh, x2_mesh, y, levels, cmap='winter')\n",
    "    plt.show()"
   ]
  },
  {
   "cell_type": "markdown",
   "metadata": {
    "id": "AedfvD9dxShZ"
   },
   "source": [
    "Now let's investigate a 2D linear function"
   ]
  },
  {
   "cell_type": "markdown",
   "metadata": {
    "deletable": false,
    "editable": false
   },
   "source": [
    "**Question 3.** Define a linear function with two inputs, $x_1$ and $x_2$."
   ]
  },
  {
   "cell_type": "code",
   "execution_count": null,
   "metadata": {
    "id": "YxeNhrXMzkZR",
    "tags": []
   },
   "outputs": [],
   "source": [
    "# Define a linear function with two inputs, x1 and x2\n",
    "def linear_function_2D(x1,x2,beta,omega1,omega2):\n",
    "  # complete the code line below with formula for 2D linear equation\n",
    "  y = ...\n",
    "\n",
    "  return y"
   ]
  },
  {
   "cell_type": "code",
   "execution_count": null,
   "metadata": {
    "deletable": false,
    "editable": false
   },
   "outputs": [],
   "source": [
    "grader.check(\"q3\")"
   ]
  },
  {
   "cell_type": "markdown",
   "metadata": {},
   "source": [
    "We'll plot the 2D function with the following code.  You don't need to change it."
   ]
  },
  {
   "cell_type": "code",
   "execution_count": null,
   "metadata": {
    "id": "rn_UBRDBysmR"
   },
   "outputs": [],
   "source": [
    "# Plot the 2D function\n",
    "\n",
    "# Make 2D array of x and y points\n",
    "x1 = np.arange(0.0, 10.0, 0.1)\n",
    "x2 = np.arange(0.0, 10.0, 0.1)\n",
    "x1,x2 = np.meshgrid(x1,x2)  # https://www.geeksforgeeks.org/numpy-meshgrid-function/\n",
    "\n",
    "# Compute the 2D function for given values of omega1, omega2\n",
    "beta = 0.0; omega1 = 1.0; omega2 = -0.5\n",
    "y  = linear_function_2D(x1,x2,beta, omega1, omega2)\n",
    "\n",
    "# Draw the function.\n",
    "# Color represents y value (brighter = higher value)\n",
    "# Black = -10 or less, White = +10 or more\n",
    "# 0 = mid orange\n",
    "# Lines are contours where value is equal\n",
    "draw_2D_function(x1,x2,y)\n"
   ]
  },
  {
   "cell_type": "markdown",
   "metadata": {},
   "source": [
    "This is a contour plot of a plane (because all the contours are straight lines)\n",
    "that is sloping up from the top left to the bottom right (because the colors are\n",
    "getting brighter)."
   ]
  },
  {
   "cell_type": "markdown",
   "metadata": {
    "deletable": false,
    "editable": false
   },
   "source": [
    "<!-- BEGIN QUESTION -->\n",
    "\n",
    "**Question 4.** Describe (in words like we did for the previous plot) what this\n",
    "plot looks like when you set omega_1 to zero."
   ]
  },
  {
   "cell_type": "markdown",
   "metadata": {},
   "source": [
    "_Type your answer here, replacing this text._"
   ]
  },
  {
   "cell_type": "code",
   "execution_count": null,
   "metadata": {
    "tags": []
   },
   "outputs": [],
   "source": [
    "beta = 0.0\n",
    "omega1 = ...\n",
    "omega2 = -0.5\n",
    "y  = linear_function_2D(x1,x2,beta, omega1, omega2)\n",
    "\n",
    "draw_2D_function(x1,x2,y)"
   ]
  },
  {
   "cell_type": "markdown",
   "metadata": {
    "deletable": false,
    "editable": false
   },
   "source": [
    "<!-- END QUESTION -->\n",
    "\n",
    "<!-- BEGIN QUESTION -->\n",
    "\n",
    "**Question 5.** Describe what this plot looks like when you set omega_2 to zero."
   ]
  },
  {
   "cell_type": "markdown",
   "metadata": {},
   "source": [
    "_Type your answer here, replacing this text._"
   ]
  },
  {
   "cell_type": "code",
   "execution_count": null,
   "metadata": {
    "tags": []
   },
   "outputs": [],
   "source": [
    "beta = 0.0\n",
    "omega1 = 1.0\n",
    "omega2 = ...\n",
    "\n",
    "y  = linear_function_2D(x1,x2,beta, omega1, omega2)\n",
    "\n",
    "draw_2D_function(x1,x2,y)"
   ]
  },
  {
   "cell_type": "markdown",
   "metadata": {
    "deletable": false,
    "editable": false,
    "vscode": {
     "languageId": "raw"
    }
   },
   "source": [
    "<!-- END QUESTION -->\n",
    "\n",
    "<!-- BEGIN QUESTION -->\n",
    "\n",
    "**Question 6.** Describe what this plot looks like when you set beta to -5."
   ]
  },
  {
   "cell_type": "markdown",
   "metadata": {},
   "source": [
    "_Type your answer here, replacing this text._"
   ]
  },
  {
   "cell_type": "code",
   "execution_count": null,
   "metadata": {
    "tags": []
   },
   "outputs": [],
   "source": [
    "\n",
    "beta = ...\n",
    "omega1 = 1.0\n",
    "omega2 = -0.5\n",
    "y  = linear_function_2D(x1,x2,beta, omega1, omega2)\n",
    "\n",
    "draw_2D_function(x1,x2,y)"
   ]
  },
  {
   "cell_type": "markdown",
   "metadata": {
    "deletable": false,
    "editable": false,
    "id": "i8tLwpls476R"
   },
   "source": [
    "<!-- END QUESTION -->\n",
    "\n",
    "## Matrix Linear Equations\n",
    "\n",
    "Often we will want to compute many linear functions at the same time.  For example, we might have three inputs, $x_1$, $x_2$, and $x_3$ and want to compute two linear functions giving $y_1$ and $y_2$. Of course, we could do this by just running each equation separately,<br><br>\n",
    "\n",
    "\\begin{align}y_1 &=& \\beta_1 + \\omega_{11} x_1 + \\omega_{12} x_2 + \\omega_{13} x_3\\\\\n",
    "y_2 &=& \\beta_2 + \\omega_{21} x_1 + \\omega_{22} x_2 + \\omega_{23} x_3.\n",
    "\\end{align}\n",
    "\n",
    "However, we can write it more compactly with vectors and matrices:\n",
    "\n",
    "\\begin{equation}\n",
    "\\begin{bmatrix} y_1\\\\ y_2 \\end{bmatrix} = \\begin{bmatrix}\\beta_{1}\\\\\\beta_{2}\\end{bmatrix}+ \\begin{bmatrix}\\omega_{11}&\\omega_{12}&\\omega_{13}\\\\\\omega_{21}&\\omega_{22}&\\omega_{23}\\end{bmatrix}\\begin{bmatrix}x_{1}\\\\x_{2}\\\\x_{3}\\end{bmatrix},\n",
    "\\end{equation}\n",
    "or\n",
    "\n",
    "\\begin{equation}\n",
    "\\mathbf{y} = \\boldsymbol\\beta +\\boldsymbol\\Omega\\mathbf{x}.\n",
    "\\end{equation}\n",
    "\n",
    "for short.  Here, lowercase bold symbols are used for vectors.  Upper case bold symbols are used for matrices.\n",
    "\n"
   ]
  },
  {
   "cell_type": "markdown",
   "metadata": {
    "deletable": false,
    "editable": false
   },
   "source": [
    "**Question 7.** Define a linear function with three inputs, x1, x2, and x_3."
   ]
  },
  {
   "cell_type": "code",
   "execution_count": null,
   "metadata": {
    "id": "MjHXMavh9IUz",
    "tags": []
   },
   "outputs": [],
   "source": [
    "# Define a linear function with three inputs, x1, x2, and x_3\n",
    "def linear_function_3D(x1,x2,x3,beta,omega1,omega2,omega3):\n",
    "  # replace the code below with formula for a single 3D linear equation\n",
    "  y = ...\n",
    "\n",
    "  return y"
   ]
  },
  {
   "cell_type": "code",
   "execution_count": null,
   "metadata": {
    "deletable": false,
    "editable": false
   },
   "outputs": [],
   "source": [
    "grader.check(\"q7\")"
   ]
  },
  {
   "cell_type": "markdown",
   "metadata": {
    "id": "fGzVJQ6N-mHJ"
   },
   "source": [
    "Let's compute two linear equations, using both the individual equations and the vector / matrix form and check they give the same result"
   ]
  },
  {
   "cell_type": "code",
   "execution_count": null,
   "metadata": {
    "id": "Swd_bFIE9p2n"
   },
   "outputs": [],
   "source": [
    "# Define the parameters\n",
    "beta1 = 0.5; beta2 = 0.2\n",
    "omega11 =  -1.0 ; omega12 = 0.4; omega13 = -0.3\n",
    "omega21 =  0.1  ; omega22 = 0.1; omega23 = 1.2\n",
    "\n",
    "# Define the inputs\n",
    "x1 = 4 ; x2 =-1; x3 = 2\n",
    "\n",
    "# Compute using the individual equations\n",
    "y1 = linear_function_3D(x1,x2,x3,beta1,omega11,omega12,omega13)\n",
    "y2 = linear_function_3D(x1,x2,x3,beta2,omega21,omega22,omega23)\n",
    "print(\"Individual equations\")\n",
    "print('y1 = %3.3f\\ny2 = %3.3f'%((y1,y2)))\n",
    "\n",
    "# Define vectors and matrices\n",
    "beta_vec = np.array([[beta1],[beta2]])\n",
    "omega_mat = np.array([[omega11,omega12,omega13],[omega21,omega22,omega23]])\n",
    "x_vec = np.array([[x1], [x2], [x3]])\n",
    "\n",
    "# Compute with vector/matrix form\n",
    "y_vec = beta_vec+np.matmul(omega_mat, x_vec)\n",
    "print(\"Matrix/vector form\")\n",
    "print('y1= %3.3f\\ny2 = %3.3f'%((y_vec[0][0],y_vec[1][0])))\n"
   ]
  },
  {
   "cell_type": "markdown",
   "metadata": {
    "deletable": false,
    "editable": false
   },
   "source": [
    "<!-- BEGIN QUESTION -->\n",
    "\n",
    "\n",
    "**Question 8.**  A single linear equation with three inputs (i.e. **linear_function_3D()**) associates a value y with each point in a 3D space ($x_1$,$x_2$,$x_3$).  What value is at position (0,0,0)?\n"
   ]
  },
  {
   "cell_type": "markdown",
   "metadata": {},
   "source": [
    "_Type your answer here, replacing this text._"
   ]
  },
  {
   "cell_type": "code",
   "execution_count": null,
   "metadata": {
    "tags": []
   },
   "outputs": [],
   "source": [
    "..."
   ]
  },
  {
   "cell_type": "markdown",
   "metadata": {
    "deletable": false,
    "editable": false
   },
   "source": [
    "<!-- END QUESTION -->\n",
    "\n",
    "**Question 9.** Write code to compute three linear equations with two inputs ($x_1$, $x_2$) using both the individual equations and the matrix form (you can make up any values for the inputs $\\beta_{i}$ and the slopes $\\omega_{ij}$."
   ]
  },
  {
   "cell_type": "code",
   "execution_count": null,
   "metadata": {
    "tags": []
   },
   "outputs": [],
   "source": [
    "def equations_2D(x1,x2,beta1,beta2,beta3,omega11,omega12,omega21,omega22,omega31,omega32):\n",
    "  # replace the code below with formulas for the 3 equations\n",
    "  y1 = ...\n",
    "  y2 = ...\n",
    "  y3 = ...\n",
    "\n",
    "  return np.array([[y1], [y2], [y3]])\n",
    "\n",
    "def matrix_2D(x1,x2,beta1,beta2,beta3,omega11,omega12,omega21,omega22,omega31,omega32):\n",
    "  # replace the code below with formula for a single 3D linear equation\n",
    "\n",
    "  ...\n",
    "  \n",
    "  y_vec = ...\n",
    "  return y_vec"
   ]
  },
  {
   "cell_type": "code",
   "execution_count": null,
   "metadata": {
    "deletable": false,
    "editable": false
   },
   "outputs": [],
   "source": [
    "grader.check(\"q9\")"
   ]
  },
  {
   "cell_type": "markdown",
   "metadata": {
    "id": "7Y5zdKtKZAB2"
   },
   "source": [
    "## Special functions\n",
    "\n",
    "Throughout the book, we'll be using some special functions (see Appendix B.1.3).  The most important of these are the logarithm and exponential functions.  Let's investigate their properties.\n",
    "\n",
    "### Exponential function\n",
    "\n",
    "We'll start with the exponential function $y=\\exp[x]=e^x$ which maps the real line $[-\\infty,+\\infty]$ to non-negative numbers $[0,+\\infty]$.\n",
    "\n",
    "Let's draw the exponential function."
   ]
  },
  {
   "cell_type": "code",
   "execution_count": null,
   "metadata": {
    "id": "c_GkjiY9IWCu"
   },
   "outputs": [],
   "source": [
    "# Define an array of x values from -5 to 5 with increments of 0.01\n",
    "x = np.arange(-5.0,5.0, 0.01)\n",
    "y = np.exp(x) ;\n",
    "\n",
    "# Plot this function\n",
    "fig, ax = plt.subplots()\n",
    "ax.plot(x,y,'r-')\n",
    "ax.set_ylim([0,100]);ax.set_xlim([-5,5])\n",
    "ax.set_xlabel('x'); ax.set_ylabel('exp[x]')\n",
    "plt.show()"
   ]
  },
  {
   "cell_type": "markdown",
   "metadata": {
    "deletable": false,
    "editable": false
   },
   "source": [
    "**Question 10.** A function is convex if we can draw a straight line between any two points on the function, and the line lies above the function everywhere between these two points. Similarly, a function is concave if a straight line between any two points lies below the function everywhere between these two points.  \n",
    "\n",
    "Is the exponential function convex or concave or neither? Answer `True`, `False` or `None`.\n"
   ]
  },
  {
   "cell_type": "code",
   "execution_count": null,
   "metadata": {
    "tags": []
   },
   "outputs": [],
   "source": [
    "# Complete line with 'convex' or 'concave' or 'neither'\n",
    "exponential_is = ..."
   ]
  },
  {
   "cell_type": "code",
   "execution_count": null,
   "metadata": {
    "deletable": false,
    "editable": false
   },
   "outputs": [],
   "source": [
    "grader.check(\"q10\")"
   ]
  },
  {
   "cell_type": "markdown",
   "metadata": {
    "id": "XyrT8257IWCu"
   },
   "source": [
    "Evaluate the following expressions using numpy. The numpy functions `np.exp()` and `np.log()` are the exponential and logarithm functions.\n",
    "\n",
    "Numpy can represent undefined values by using `np.nan`, which is short for \"not a number\",\n",
    "positive infinity by using `np.inf`, and negative infinity by using `-np.inf`."
   ]
  },
  {
   "cell_type": "markdown",
   "metadata": {
    "deletable": false,
    "editable": false
   },
   "source": [
    "**Question 11.** Compute the following values and observe the result.\n",
    "\n",
    "1. What is $\\exp[0]$?\n",
    "2. What is $\\exp[1]$? \n",
    "3. What is $\\exp[-\\infty]$?\n",
    "4. What is $\\exp[+\\infty]$?"
   ]
  },
  {
   "cell_type": "code",
   "execution_count": null,
   "metadata": {
    "tags": []
   },
   "outputs": [],
   "source": [
    "exp_0 = ...\n",
    "print(exp_0)\n",
    "\n",
    "exp_1 = ...\n",
    "print(exp_1)\n",
    "\n",
    "exp_neg_inf = ...\n",
    "print(exp_neg_inf)\n",
    "\n",
    "exp_pos_inf = ...\n",
    "print(exp_pos_inf)\n"
   ]
  },
  {
   "cell_type": "code",
   "execution_count": null,
   "metadata": {
    "deletable": false,
    "editable": false
   },
   "outputs": [],
   "source": [
    "grader.check(\"q11\")"
   ]
  },
  {
   "cell_type": "markdown",
   "metadata": {
    "id": "R6A4e5IxIWCu"
   },
   "source": [
    "### Logarithm function\n",
    "\n",
    "Now let's consider the logarithm function $y=\\log[x]$. Throughout the class we always use natural (base $e$) logarithms. The log function maps non-negative numbers $[0,\\infty]$ to real numbers $[-\\infty,\\infty]$.  It is the inverse of the exponential function.  So when we compute $\\log[x]$ we are really asking \"What is the number $y$ so that $e^y=x$?\"\n",
    "\n",
    "Let's draw the logarithm function."
   ]
  },
  {
   "cell_type": "code",
   "execution_count": null,
   "metadata": {
    "id": "fOR7v2iXIWCu"
   },
   "outputs": [],
   "source": [
    "# Define an array of x values from -5 to 5 with increments of 0.01\n",
    "x = np.arange(0.01,5.0, 0.01)\n",
    "y = np.log(x) ;\n",
    "\n",
    "# Plot this function\n",
    "fig, ax = plt.subplots()\n",
    "ax.plot(x,y,'r-')\n",
    "ax.set_ylim([-5,5]);ax.set_xlim([0,5])\n",
    "ax.set_xlabel('x'); ax.set_ylabel('$\\\\log[x]$')\n",
    "plt.show()"
   ]
  },
  {
   "cell_type": "markdown",
   "metadata": {
    "deletable": false,
    "editable": false
   },
   "source": [
    "**Question 12.** Is the logarithm function concave, convex or neither?"
   ]
  },
  {
   "cell_type": "code",
   "execution_count": null,
   "metadata": {
    "tags": []
   },
   "outputs": [],
   "source": [
    "# Complete line with 'convex' or 'concave' or 'neither'\n",
    "logarithm_is = ..."
   ]
  },
  {
   "cell_type": "code",
   "execution_count": null,
   "metadata": {
    "deletable": false,
    "editable": false
   },
   "outputs": [],
   "source": [
    "grader.check(\"q12\")"
   ]
  },
  {
   "cell_type": "markdown",
   "metadata": {
    "deletable": false,
    "editable": false,
    "id": "yYWrL5AXIWCv"
   },
   "source": [
    "**Question 13.** Compute the following values and observe the result.\n",
    "\n",
    "1. What is $\\log[0]$?  \n",
    "2. What is $\\log[1]$?\n",
    "3. What is $\\log[e]$?\n",
    "4. What is $\\log[\\exp[3]]$?\n",
    "5. What is $\\exp[\\log[4]]$?"
   ]
  },
  {
   "cell_type": "code",
   "execution_count": null,
   "metadata": {
    "tags": []
   },
   "outputs": [],
   "source": [
    "log_0 = ...\n",
    "print(log_0)\n",
    "\n",
    "log_1 = ...\n",
    "print(log_1)\n",
    "\n",
    "log_e = ...\n",
    "print(log_e)\n",
    "\n",
    "log_exp_3 = ...\n",
    "print(log_exp_3)\n",
    "\n",
    "exp_log_4 = ...\n",
    "print(exp_log_4)"
   ]
  },
  {
   "cell_type": "code",
   "execution_count": null,
   "metadata": {
    "deletable": false,
    "editable": false
   },
   "outputs": [],
   "source": [
    "grader.check(\"q13\")"
   ]
  },
  {
   "cell_type": "markdown",
   "metadata": {},
   "source": [
    "## Homework Time Survey\n",
    "\n",
    "This is an optional question with no score so that we can better gauge homework load. \n",
    "About long did it take you to do this homework?"
   ]
  },
  {
   "cell_type": "markdown",
   "metadata": {},
   "source": [
    "_Type your answer here._"
   ]
  },
  {
   "cell_type": "markdown",
   "metadata": {},
   "source": [
    "## Submission Instructions\n",
    "\n",
    "For a clean submission you should:\n",
    "1. Clear all outputs\n",
    "2. Restart the kernel\n",
    "3. Run all cells in order\n",
    "\n",
    "> If you are running on Colab, you will get errors on the Otter Grader related\n",
    "> cells, so you will likely have to manually execute the cells in order, \n",
    "> avoiding the Otter Grader cells."
   ]
  },
  {
   "cell_type": "markdown",
   "metadata": {},
   "source": []
  }
 ],
 "metadata": {
  "colab": {
   "include_colab_link": true,
   "provenance": []
  },
  "kernelspec": {
   "display_name": "Python 3",
   "language": "python",
   "name": "python3"
  },
  "language_info": {
   "codemirror_mode": {
    "name": "ipython",
    "version": 3
   },
   "file_extension": ".py",
   "mimetype": "text/x-python",
   "name": "python",
   "nbconvert_exporter": "python",
   "pygments_lexer": "ipython3",
   "version": "3.11.9"
  },
  "otter": {
   "OK_FORMAT": true,
   "assignment_name": "hw1_background_mathematics",
   "tests": {
    "q1": {
     "name": "q1",
     "points": 2,
     "suites": [
      {
       "cases": [
        {
         "code": ">>> assert linear_function_1D(0, 0, 1) == 0, 'Test failed'\n>>> assert linear_function_1D(2, 1, 1) == 3, 'Test failed'\n>>> assert linear_function_1D(2, 4, -1) == 2, 'Test failed'\n",
         "hidden": false,
         "locked": false
        }
       ],
       "scored": true,
       "setup": "",
       "teardown": "",
       "type": "doctest"
      }
     ]
    },
    "q10": {
     "name": "q10",
     "points": 1,
     "suites": [
      {
       "cases": [
        {
         "code": ">>> assert exponential_is == 'convex', 'Test failed'\n",
         "hidden": false,
         "locked": false
        }
       ],
       "scored": true,
       "setup": "",
       "teardown": "",
       "type": "doctest"
      }
     ]
    },
    "q11": {
     "name": "q11",
     "points": 2,
     "suites": [
      {
       "cases": [
        {
         "code": ">>> assert exp_0 == 1, 'Test failed'\n>>> assert exp_1 == np.e, 'Test failed'\n>>> assert exp_neg_inf == 0, 'Test failed'\n>>> assert exp_pos_inf == np.inf, 'Test failed'\n",
         "hidden": false,
         "locked": false
        }
       ],
       "scored": true,
       "setup": "",
       "teardown": "",
       "type": "doctest"
      }
     ]
    },
    "q12": {
     "name": "q12",
     "points": 1,
     "suites": [
      {
       "cases": [
        {
         "code": ">>> assert logarithm_is == 'concave', 'Test failed'\n",
         "hidden": false,
         "locked": false
        }
       ],
       "scored": true,
       "setup": "",
       "teardown": "",
       "type": "doctest"
      }
     ]
    },
    "q13": {
     "name": "q13",
     "points": 2,
     "suites": [
      {
       "cases": [
        {
         "code": ">>> assert log_0 == -np.inf, 'Test failed'\n>>> assert log_1 == 0, 'Test failed'\n>>> assert log_e == 1, 'Test failed'\n>>> assert log_exp_3 == 3, 'Test failed'\n>>> assert exp_log_4 == 4, 'Test failed'\n",
         "hidden": false,
         "locked": false
        }
       ],
       "scored": true,
       "setup": "",
       "teardown": "",
       "type": "doctest"
      }
     ]
    },
    "q3": {
     "name": "q3",
     "points": 2,
     "suites": [
      {
       "cases": [
        {
         "code": ">>> assert linear_function_2D(0, 0, 0, 1, 1) == 0, 'Test failed'\n>>> assert linear_function_2D(2, 2, 1, 1, 1) == 5, 'Test failed'\n>>> assert linear_function_2D(2, 2, 1, 1, -1) == 1, 'Test failed'\n",
         "hidden": false,
         "locked": false
        }
       ],
       "scored": true,
       "setup": "",
       "teardown": "",
       "type": "doctest"
      }
     ]
    },
    "q7": {
     "name": "q7",
     "points": 2,
     "suites": [
      {
       "cases": [
        {
         "code": ">>> assert linear_function_3D(0, 0, 0, 0, 1, 1, 1) == 0, 'Test failed'\n>>> assert linear_function_3D(2, 2, 2, 1, 1, 1, 1) == 7, 'Test failed'\n>>> assert linear_function_3D(2, 2, 2, 1, 1, -1, 1) == 3, 'Test failed'\n",
         "hidden": false,
         "locked": false
        }
       ],
       "scored": true,
       "setup": "",
       "teardown": "",
       "type": "doctest"
      }
     ]
    },
    "q9": {
     "name": "q9",
     "points": 4,
     "suites": [
      {
       "cases": [
        {
         "code": ">>> assert np.allclose(equations_2D(0, 0, 1, 2, 3, 1, 2, 3, 4, 5, 6), matrix_2D(0, 0, 1, 2, 3, 1, 2, 3, 4, 5, 6)), 'Test failed'\n>>> assert np.allclose(equations_2D(1, -1, 3, 2, 1, 3, 2, 1, 6, 5, 4), matrix_2D(1, -1, 3, 2, 1, 3, 2, 1, 6, 5, 4)), 'Test failed'\n",
         "hidden": false,
         "locked": false
        }
       ],
       "scored": true,
       "setup": "",
       "teardown": "",
       "type": "doctest"
      }
     ]
    }
   }
  }
 },
 "nbformat": 4,
 "nbformat_minor": 0
}
